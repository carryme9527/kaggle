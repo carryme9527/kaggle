{
 "cells": [
  {
   "cell_type": "code",
   "execution_count": null,
   "metadata": {
    "collapsed": true,
    "deletable": true,
    "editable": true
   },
   "outputs": [],
   "source": [
    "leaks = {\n",
    "    1   :  71.34112,\n",
    "    1001: 111.65212,\n",
    "    1004:  91.472,\n",
    "    1008: 106.71967,\n",
    "    1009: 108.21841,\n",
    "    104 :  92.37968,\n",
    "    105 : 108.5069,\n",
    "    110 :  83.31692,\n",
    "    12  : 109.30903,\n",
    "    1259: 112.3909,\n",
    "    1644:  99.14157,\n",
    "    1652:  89.77625,\n",
    "    1664: 112.93977,\n",
    "    2129: 112.03,\n",
    "    23  : 115.21953,\n",
    "    2342:  93.06,\n",
    "    253 : 115.93724,\n",
    "    259 :  93.33662,\n",
    "    262 :  75.35182,\n",
    "    28  :  92.00675,\n",
    "    337 : 101.23135,\n",
    "    3977: 132.08556,\n",
    "    409 :  91.00760,\n",
    "    42  :  87.73572,\n",
    "    43  : 129.79876,\n",
    "    437 :  85.96960,\n",
    "    45  :  99.55671,\n",
    "    488 : 113.39009,\n",
    "    493 : 108.40135,\n",
    "    4958: 113.58711,\n",
    "    4960:  89.83957,\n",
    "    57  : 116.02167,\n",
    "    7055:  91.549,\n",
    "    72  : 110.54742,\n",
    "    78  : 125.28849,\n",
    "    8002:  95.84858,\n",
    "    8007:  87.44019,\n",
    "    8416:  96.84773,\n",
    "    88  :  90.33211,\n",
    "    89  : 130.55165,\n",
    "    93  : 105.79792,\n",
    "    94  : 103.04672,\n",
    "    973 : 106.76189\n",
    "}"
   ]
  },
  {
   "cell_type": "code",
   "execution_count": null,
   "metadata": {
    "collapsed": true,
    "deletable": true,
    "editable": true
   },
   "outputs": [],
   "source": [
    "import pandas as pd"
   ]
  },
  {
   "cell_type": "code",
   "execution_count": null,
   "metadata": {
    "collapsed": true,
    "deletable": true,
    "editable": true
   },
   "outputs": [],
   "source": [
    "submission = pd.read_csv('../output/back-to-start.csv')"
   ]
  },
  {
   "cell_type": "code",
   "execution_count": null,
   "metadata": {
    "collapsed": false,
    "deletable": true,
    "editable": true
   },
   "outputs": [],
   "source": [
    "for _id in leaks.keys():\n",
    "    sid = submission[submission.id == _id].index[0]\n",
    "    submission.loc[sid, 'y'] = leaks.get(_id)"
   ]
  },
  {
   "cell_type": "code",
   "execution_count": null,
   "metadata": {
    "collapsed": true,
    "deletable": true,
    "editable": true
   },
   "outputs": [],
   "source": [
    "submission.to_csv('../output/with-leaks.csv', index=False)"
   ]
  }
 ],
 "metadata": {
  "kernelspec": {
   "display_name": "Python 2",
   "language": "python",
   "name": "python2"
  },
  "language_info": {
   "codemirror_mode": {
    "name": "ipython",
    "version": 2
   },
   "file_extension": ".py",
   "mimetype": "text/x-python",
   "name": "python",
   "nbconvert_exporter": "python",
   "pygments_lexer": "ipython2",
   "version": "2.7.13"
  }
 },
 "nbformat": 4,
 "nbformat_minor": 2
}
