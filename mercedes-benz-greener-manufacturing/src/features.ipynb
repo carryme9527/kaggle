{
 "cells": [
  {
   "cell_type": "code",
   "execution_count": null,
   "metadata": {
    "collapsed": false,
    "deletable": true,
    "editable": true,
    "scrolled": true
   },
   "outputs": [],
   "source": [
    "import pandas as pd\n",
    "import numpy as np\n",
    "from collections import defaultdict"
   ]
  },
  {
   "cell_type": "code",
   "execution_count": null,
   "metadata": {
    "collapsed": false,
    "deletable": true,
    "editable": true,
    "scrolled": true
   },
   "outputs": [],
   "source": [
    "train = pd.read_csv('../input/train.csv')\n",
    "test = pd.read_csv('../input/test.csv')"
   ]
  },
  {
   "cell_type": "code",
   "execution_count": null,
   "metadata": {
    "collapsed": false,
    "deletable": true,
    "editable": true,
    "scrolled": true
   },
   "outputs": [],
   "source": [
    "columns_to_spread = train.columns\n",
    "\n",
    "columns_to_spread = columns_to_spread.drop(['ID', 'y'])\n",
    "\n",
    "# all row having the same value\n",
    "columns_to_spread = columns_to_spread.drop(['X11', 'X93', 'X107', 'X233', 'X235', 'X268', 'X289', 'X290', 'X293', 'X297', 'X330', 'X347'])\n"
   ]
  },
  {
   "cell_type": "code",
   "execution_count": null,
   "metadata": {
    "collapsed": false,
    "deletable": true,
    "editable": true,
    "scrolled": false
   },
   "outputs": [],
   "source": [
    "maps = {}\n",
    "for col in columns_to_spread:\n",
    "    maps[col] = {\n",
    "        'ratio': defaultdict(lambda: 0),\n",
    "        'mean': defaultdict(lambda: np.mean(train['y'].values)),\n",
    "        'std': defaultdict(lambda: np.std(train['y'].values)),\n",
    "        'median': defaultdict(lambda: np.median(train['y'].values))\n",
    "    }\n",
    "    \n",
    "    for val in set(train[col].values):\n",
    "        targets = train[train[col] == val]\n",
    "        maps[col]['ratio'][val] = targets.shape[0] / float(train.shape[0])\n",
    "        maps[col]['std'][val] = np.std(targets['y'].values)\n",
    "        maps[col]['mean'][val] = np.mean(targets['y'].values)\n",
    "        maps[col]['median'][val] = np.median(targets['y'].values)"
   ]
  },
  {
   "cell_type": "code",
   "execution_count": null,
   "metadata": {
    "collapsed": false,
    "deletable": true,
    "editable": true
   },
   "outputs": [],
   "source": [
    "new_train = pd.DataFrame()\n",
    "new_train['ID'] = train['ID']\n",
    "new_train['y'] = train['y']\n",
    "\n",
    "new_test = pd.DataFrame()\n",
    "new_test['ID'] = test['ID']\n",
    "\n",
    "for col in columns_to_spread:\n",
    "    for name in maps[col].keys():\n",
    "        new_col = '{0}_{1}'.format(col, name)\n",
    "        new_train[new_col] = map(lambda x: maps[col][name][x], train[col].values)\n",
    "        new_test[new_col] = map(lambda x: maps[col][name][x], test[col].values)"
   ]
  },
  {
   "cell_type": "code",
   "execution_count": null,
   "metadata": {
    "collapsed": false,
    "deletable": true,
    "editable": true
   },
   "outputs": [],
   "source": [
    "# new_train.to_csv('../input/my_spread_train.csv', index=False)\n",
    "# new_test.to_csv('../input/my_spread_test.csv', index=False)"
   ]
  }
 ],
 "metadata": {
  "kernelspec": {
   "display_name": "Python 2",
   "language": "python",
   "name": "python2"
  },
  "language_info": {
   "codemirror_mode": {
    "name": "ipython",
    "version": 2
   },
   "file_extension": ".py",
   "mimetype": "text/x-python",
   "name": "python",
   "nbconvert_exporter": "python",
   "pygments_lexer": "ipython2",
   "version": "2.7.13"
  }
 },
 "nbformat": 4,
 "nbformat_minor": 2
}
